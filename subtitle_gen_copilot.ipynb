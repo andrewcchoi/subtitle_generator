{
 "cells": [
  {
   "cell_type": "code",
   "execution_count": null,
   "metadata": {},
   "outputs": [],
   "source": [
    "import moviepy.editor as mp\n",
    "import whisper\n",
    "import ffmpeg\n"
   ]
  },
  {
   "cell_type": "code",
   "execution_count": null,
   "metadata": {},
   "outputs": [],
   "source": [
    "\n",
    "# Load the video file\n",
    "video = mp.VideoFileClip(\"input_video.mp4\")\n",
    "\n",
    "# Extract audio from the video\n",
    "audio = video.audio\n",
    "audio.write_audiofile(\"audio.wav\")\n",
    "\n",
    "# Load the Whisper model\n",
    "model = whisper.load_model(\"base\")\n",
    "\n",
    "# Transcribe the audio\n",
    "result = model.transcribe(\"audio.wav\")\n",
    "\n",
    "# Generate SRT file\n",
    "with open(\"subtitles.srt\", \"w\") as srt_file:\n",
    "    for i, segment in enumerate(result[\"segments\"]):\n",
    "        start = segment[\"start\"]\n",
    "        end = segment[\"end\"]\n",
    "        text = segment[\"text\"]\n",
    "        srt_file.write(f\"{i+1}\\n\")\n",
    "        srt_file.write(f\"{start:.3f} --> {end:.3f}\\n\")\n",
    "        srt_file.write(f\"{text}\\n\\n\")\n",
    "\n",
    "print(\"Subtitles generated successfully!\")\n"
   ]
  }
 ],
 "metadata": {
  "language_info": {
   "name": "python"
  }
 },
 "nbformat": 4,
 "nbformat_minor": 2
}
