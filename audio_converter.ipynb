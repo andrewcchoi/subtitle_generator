{
 "cells": [
  {
   "cell_type": "code",
   "execution_count": null,
   "metadata": {},
   "outputs": [],
   "source": [
    "import ffmpeg\n"
   ]
  },
  {
   "cell_type": "code",
   "execution_count": null,
   "metadata": {},
   "outputs": [],
   "source": [
    "\n",
    "def convert_audio(input_file: str, output_file: str) -> None:\n",
    "    \"\"\"\n",
    "    Converts an audio file from one format to another.\n",
    "    \n",
    "    Args:\n",
    "        input_file (str): The path to the input audio file (e.g., 'audio.m4b').\n",
    "        output_file (str): The path to save the output audio file (e.g., 'audio.mp3').\n",
    "\n",
    "    Low Quality:\n",
    "        96 kbps (kilobits per second)\n",
    "        128 kbps\n",
    "\n",
    "    Medium Quality:\n",
    "        160 kbps\n",
    "        192 kbps\n",
    "\n",
    "    High Quality:\n",
    "        256 kbps\n",
    "        320 kbps (maximum for MP3)\n",
    "    \"\"\"\n",
    "\n",
    "    (\n",
    "        ffmpeg\n",
    "        .input(input_file)\n",
    "        .output(output_file, audio_bitrate='320k')\n",
    "        .run()\n",
    "    )   \n",
    "\n",
    "    print(f\"Audio converted from {input_file.split('.')[-1]} to {output_file.split('.')[-1]} and saved as '{output_file}'\")\n"
   ]
  },
  {
   "cell_type": "code",
   "execution_count": null,
   "metadata": {},
   "outputs": [],
   "source": [
    "if __name__ == \"__main__\":\n",
    "    # Load the M4B audio file\n",
    "    input_file = \"audio/file_name.m4b\"  # Replace with the path to your M4B file\n",
    "    output_file = \"audio/file_name.mp3\"  # Replace with the desired MP3 file path\n",
    "\n",
    "    convert_audio(input_file=input_file, output_file=output_file)"
   ]
  },
  {
   "cell_type": "code",
   "execution_count": null,
   "metadata": {},
   "outputs": [],
   "source": []
  }
 ],
 "metadata": {
  "kernelspec": {
   "display_name": "venv",
   "language": "python",
   "name": "python3"
  },
  "language_info": {
   "codemirror_mode": {
    "name": "ipython",
    "version": 3
   },
   "file_extension": ".py",
   "mimetype": "text/x-python",
   "name": "python",
   "nbconvert_exporter": "python",
   "pygments_lexer": "ipython3",
   "version": "3.10.11"
  }
 },
 "nbformat": 4,
 "nbformat_minor": 2
}
