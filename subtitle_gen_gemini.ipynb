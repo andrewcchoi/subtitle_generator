{
 "cells": [
  {
   "cell_type": "code",
   "execution_count": null,
   "metadata": {},
   "outputs": [],
   "source": [
    "import whisper\n",
    "import moviepy.editor as mp\n"
   ]
  },
  {
   "cell_type": "code",
   "execution_count": null,
   "metadata": {},
   "outputs": [],
   "source": [
    "\n",
    "def generate_subtitles(video_path, output_srt_path):\n",
    "    \"\"\"Generates subtitles for a video using Whisper.\"\"\"\n",
    "\n",
    "    # Load the Whisper model\n",
    "    model = whisper.load_model(\"base\")  # Or another model like \"small\", \"medium\", \"large\"\n",
    "\n",
    "    # Extract audio from the video\n",
    "    video = mp.VideoFileClip(video_path)\n",
    "    audio = video.audio.write_audiofile(\"temp_audio.wav\")\n",
    "\n",
    "    # Transcribe the audio\n",
    "    result = model.transcribe(\"temp_audio.wav\")\n",
    "\n",
    "    # Generate SRT file\n",
    "    with open(output_srt_path, \"w\") as f:\n",
    "        for i, segment in enumerate(result[\"segments\"]):\n",
    "            start = segment[\"start\"]\n",
    "            end = segment[\"end\"]\n",
    "            text = segment[\"text\"]\n",
    "\n",
    "            f.write(f\"{i+1}\\n\")\n",
    "            f.write(f\"{format_time(start)} --> {format_time(end)}\\n\")\n",
    "            f.write(f\"{text}\\n\\n\")\n",
    "\n",
    "def format_time(seconds):\n",
    "    \"\"\"Formats time in seconds to SRT format.\"\"\"\n",
    "    hours, remainder = divmod(seconds, 3600)\n",
    "    minutes, seconds = divmod(remainder, 60)\n",
    "    return f\"{int(hours):02}:{int(minutes):02}:{int(seconds):02},{int(seconds*1000 % 1000):03}\"\n"
   ]
  },
  {
   "cell_type": "code",
   "execution_count": null,
   "metadata": {},
   "outputs": [],
   "source": [
    "\n",
    "if __name__ == \"__main__\":\n",
    "    video_path = \"your_video.mp4\"\n",
    "    output_srt_path = \"subtitles.srt\"\n",
    "    generate_subtitles(video_path, output_srt_path)"
   ]
  }
 ],
 "metadata": {
  "language_info": {
   "name": "python"
  }
 },
 "nbformat": 4,
 "nbformat_minor": 2
}
