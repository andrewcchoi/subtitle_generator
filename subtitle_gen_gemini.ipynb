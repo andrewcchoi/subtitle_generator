{
 "cells": [
  {
   "cell_type": "code",
   "execution_count": 2,
   "metadata": {},
   "outputs": [],
   "source": [
    "import whisper\n",
    "import moviepy as mp\n",
    "import eyed3"
   ]
  },
  {
   "cell_type": "code",
   "execution_count": null,
   "metadata": {},
   "outputs": [],
   "source": [
    "\n",
    "def generate_subtitles(video_path, audio_path, output_srt_path):\n",
    "    \"\"\"Generates subtitles for a video using Whisper.\n",
    "    models (https://github.com/openai/whisper):\n",
    "        \"tiny.en\" | \"tiny\"\n",
    "        \"base.en\" | \"base\"\n",
    "        \"small.en\" | small\"\n",
    "        \"medium.en\" | edium\"\n",
    "        \"large-v1\"\n",
    "        \"large-v2\"\n",
    "        \"large-v3\"\n",
    "        \"large\"\n",
    "        \"large-v3-turbo\"\n",
    "        \"turbo\"\n",
    "    \"\"\"\n",
    "\n",
    "    # Extract audio from the video\n",
    "    video = mp.VideoFileClip(video_path)\n",
    "    video.audio.write_audiofile(audio_path)\n",
    "\n",
    "    # Load the Whisper model\n",
    "    model = whisper.load_model(\"turbo\", device=\"cuda\")  # Or another model like \"small\", \"medium\", \"large\", \"turbo\"\n",
    "\n",
    "    # Transcribe the audio\n",
    "    result = model.transcribe(audio_path, verbose=False, condition_on_previous_text=False)\n",
    "\n",
    "    # Generate SRT file\n",
    "    with open(output_srt_path, \"w\", encoding=\"utf-8\") as f:\n",
    "        for i, segment in enumerate(result[\"segments\"]):\n",
    "            start = segment[\"start\"]\n",
    "            end = segment[\"end\"]\n",
    "            text = segment[\"text\"]\n",
    "\n",
    "            f.write(f\"{i+1}\\n\")\n",
    "            f.write(f\"{format_time(start)} --> {format_time(end)}\\n\")\n",
    "            f.write(f\"{text}\\n\\n\")\n",
    "\n",
    "def format_time(seconds):\n",
    "    \"\"\"Formats time in seconds to SRT format.\"\"\"\n",
    "    hours, remainder = divmod(seconds, 3600)\n",
    "    minutes, seconds = divmod(remainder, 60)\n",
    "    return f\"{int(hours):02}:{int(minutes):02}:{int(seconds):02},{int(seconds*1000 % 1000):03}\"\n"
   ]
  },
  {
   "cell_type": "code",
   "execution_count": 15,
   "metadata": {},
   "outputs": [],
   "source": [
    "def add_tag(audio_file: str, artist: str, album: str):\n",
    "    file = eyed3.load(audio_file)\n",
    "    file.tag.artist = artist\n",
    "    file.tag.album = album\n",
    "    file.tag.save()"
   ]
  },
  {
   "cell_type": "code",
   "execution_count": null,
   "metadata": {},
   "outputs": [
    {
     "name": "stderr",
     "output_type": "stream",
     "text": [
      "frame_index:   2%|▏         | 44/2880 [07:15<01:30, 31.32it/s, now=None]"
     ]
    },
    {
     "name": "stdout",
     "output_type": "stream",
     "text": [
      "MoviePy - Writing audio in videos/TheSpellshop/36 The Spellshop.mp3\n"
     ]
    },
    {
     "name": "stderr",
     "output_type": "stream",
     "text": [
      "frame_index:   2%|▏         | 44/2880 [07:23<01:30, 31.32it/s, now=None]"
     ]
    },
    {
     "name": "stdout",
     "output_type": "stream",
     "text": [
      "MoviePy - Done.\n"
     ]
    },
    {
     "data": {
      "text/plain": [
       "' results\\n1g= base nocuda:9m 38s base cuda:4m 27s turbo cuda: 9m 36s\\n10g= turbo cuda: 4m 17s\\n369k=\\nsample_4g=turbo cuda: 11s\\n\\n'"
      ]
     },
     "execution_count": 75,
     "metadata": {},
     "output_type": "execute_result"
    }
   ],
   "source": [
    "# %%timeit\n",
    "if __name__ == \"__main__\":\n",
    "    artist = \"Sarah Beth Durst\"\n",
    "    album_name = \"The Spellshop\"\n",
    "    file_name = \"36 The Spellshop\"\n",
    "    video_path = f\"videos/{album_name}/{file_name}.mp4\"\n",
    "    audio_path = f\"videos/{album_name}/{file_name}.mp3\"\n",
    "    output_srt_path = f\"videos/{file_name}_gemini.srt\"\n",
    "    generate_subtitles(video_path, audio_path, output_srt_path)\n",
    "    add_tag(audio_path, artist, album_name)\n",
    "\n",
    "''' results\n",
    "1g= base nocuda:9m 38s base cuda:4m 27s turbo cuda: 9m 36s\n",
    "10g= turbo cuda: 4m 17s\n",
    "369k=\n",
    "sample_4g=turbo cuda: 11s\n",
    "\n",
    "'''"
   ]
  },
  {
   "cell_type": "code",
   "execution_count": 38,
   "metadata": {},
   "outputs": [
    {
     "name": "stdout",
     "output_type": "stream",
     "text": [
      "video.duration=120.03\n",
      "MoviePy - Building video videos/sample_1.mkv.\n",
      "MoviePy - Writing audio in sample_1TEMP_MPY_wvf_snd.mp3\n"
     ]
    },
    {
     "name": "stderr",
     "output_type": "stream",
     "text": [
      "                                                                      \r"
     ]
    },
    {
     "name": "stdout",
     "output_type": "stream",
     "text": [
      "MoviePy - Done.\n",
      "MoviePy - Writing video videos/sample_1.mkv\n",
      "\n"
     ]
    },
    {
     "name": "stderr",
     "output_type": "stream",
     "text": [
      "frame_index:   1%|          | 20/2880 [00:00<01:34, 30.28it/s, now=None]d:\\!wip\\subtitle_generator\\venv\\lib\\site-packages\\moviepy\\video\\io\\ffmpeg_reader.py:157: UserWarning: In file videos/sample_1.mkv, 4871736 bytes wanted but 0 bytes read at frame index 22 (out of a total 2880 frames), at time 0.92/120.03 sec. Using the last valid frame instead.\n",
      "  warnings.warn(\n",
      "frame_index:   1%|          | 24/2880 [00:00<01:34, 30.28it/s, now=None]d:\\!wip\\subtitle_generator\\venv\\lib\\site-packages\\moviepy\\video\\io\\ffmpeg_reader.py:157: UserWarning: In file videos/sample_1.mkv, 4871736 bytes wanted but 0 bytes read at frame index 23 (out of a total 2880 frames), at time 0.96/120.03 sec. Using the last valid frame instead.\n",
      "  warnings.warn(\n",
      "d:\\!wip\\subtitle_generator\\venv\\lib\\site-packages\\moviepy\\video\\io\\ffmpeg_reader.py:157: UserWarning: In file videos/sample_1.mkv, 4871736 bytes wanted but 0 bytes read at frame index 24 (out of a total 2880 frames), at time 1.00/120.03 sec. Using the last valid frame instead.\n",
      "  warnings.warn(\n",
      "d:\\!wip\\subtitle_generator\\venv\\lib\\site-packages\\moviepy\\video\\io\\ffmpeg_reader.py:157: UserWarning: In file videos/sample_1.mkv, 4871736 bytes wanted but 0 bytes read at frame index 25 (out of a total 2880 frames), at time 1.04/120.03 sec. Using the last valid frame instead.\n",
      "  warnings.warn(\n",
      "d:\\!wip\\subtitle_generator\\venv\\lib\\site-packages\\moviepy\\video\\io\\ffmpeg_reader.py:157: UserWarning: In file videos/sample_1.mkv, 4871736 bytes wanted but 0 bytes read at frame index 26 (out of a total 2880 frames), at time 1.08/120.03 sec. Using the last valid frame instead.\n",
      "  warnings.warn(\n",
      "frame_index:   1%|          | 28/2880 [00:00<01:32, 30.82it/s, now=None]d:\\!wip\\subtitle_generator\\venv\\lib\\site-packages\\moviepy\\video\\io\\ffmpeg_reader.py:157: UserWarning: In file videos/sample_1.mkv, 4871736 bytes wanted but 0 bytes read at frame index 27 (out of a total 2880 frames), at time 1.12/120.03 sec. Using the last valid frame instead.\n",
      "  warnings.warn(\n",
      "d:\\!wip\\subtitle_generator\\venv\\lib\\site-packages\\moviepy\\video\\io\\ffmpeg_reader.py:157: UserWarning: In file videos/sample_1.mkv, 4871736 bytes wanted but 0 bytes read at frame index 28 (out of a total 2880 frames), at time 1.17/120.03 sec. Using the last valid frame instead.\n",
      "  warnings.warn(\n",
      "d:\\!wip\\subtitle_generator\\venv\\lib\\site-packages\\moviepy\\video\\io\\ffmpeg_reader.py:157: UserWarning: In file videos/sample_1.mkv, 4871736 bytes wanted but 0 bytes read at frame index 29 (out of a total 2880 frames), at time 1.21/120.03 sec. Using the last valid frame instead.\n",
      "  warnings.warn(\n",
      "d:\\!wip\\subtitle_generator\\venv\\lib\\site-packages\\moviepy\\video\\io\\ffmpeg_reader.py:157: UserWarning: In file videos/sample_1.mkv, 4871736 bytes wanted but 0 bytes read at frame index 30 (out of a total 2880 frames), at time 1.25/120.03 sec. Using the last valid frame instead.\n",
      "  warnings.warn(\n",
      "frame_index:   1%|          | 32/2880 [00:01<01:32, 30.67it/s, now=None]d:\\!wip\\subtitle_generator\\venv\\lib\\site-packages\\moviepy\\video\\io\\ffmpeg_reader.py:157: UserWarning: In file videos/sample_1.mkv, 4871736 bytes wanted but 0 bytes read at frame index 31 (out of a total 2880 frames), at time 1.29/120.03 sec. Using the last valid frame instead.\n",
      "  warnings.warn(\n",
      "d:\\!wip\\subtitle_generator\\venv\\lib\\site-packages\\moviepy\\video\\io\\ffmpeg_reader.py:157: UserWarning: In file videos/sample_1.mkv, 4871736 bytes wanted but 0 bytes read at frame index 32 (out of a total 2880 frames), at time 1.33/120.03 sec. Using the last valid frame instead.\n",
      "  warnings.warn(\n",
      "d:\\!wip\\subtitle_generator\\venv\\lib\\site-packages\\moviepy\\video\\io\\ffmpeg_reader.py:157: UserWarning: In file videos/sample_1.mkv, 4871736 bytes wanted but 0 bytes read at frame index 33 (out of a total 2880 frames), at time 1.38/120.03 sec. Using the last valid frame instead.\n",
      "  warnings.warn(\n",
      "d:\\!wip\\subtitle_generator\\venv\\lib\\site-packages\\moviepy\\video\\io\\ffmpeg_reader.py:157: UserWarning: In file videos/sample_1.mkv, 4871736 bytes wanted but 0 bytes read at frame index 34 (out of a total 2880 frames), at time 1.42/120.03 sec. Using the last valid frame instead.\n",
      "  warnings.warn(\n",
      "frame_index:   1%|▏         | 36/2880 [00:01<01:30, 31.29it/s, now=None]d:\\!wip\\subtitle_generator\\venv\\lib\\site-packages\\moviepy\\video\\io\\ffmpeg_reader.py:157: UserWarning: In file videos/sample_1.mkv, 4871736 bytes wanted but 0 bytes read at frame index 35 (out of a total 2880 frames), at time 1.46/120.03 sec. Using the last valid frame instead.\n",
      "  warnings.warn(\n",
      "d:\\!wip\\subtitle_generator\\venv\\lib\\site-packages\\moviepy\\video\\io\\ffmpeg_reader.py:157: UserWarning: In file videos/sample_1.mkv, 4871736 bytes wanted but 0 bytes read at frame index 36 (out of a total 2880 frames), at time 1.50/120.03 sec. Using the last valid frame instead.\n",
      "  warnings.warn(\n",
      "d:\\!wip\\subtitle_generator\\venv\\lib\\site-packages\\moviepy\\video\\io\\ffmpeg_reader.py:157: UserWarning: In file videos/sample_1.mkv, 4871736 bytes wanted but 0 bytes read at frame index 37 (out of a total 2880 frames), at time 1.54/120.03 sec. Using the last valid frame instead.\n",
      "  warnings.warn(\n",
      "d:\\!wip\\subtitle_generator\\venv\\lib\\site-packages\\moviepy\\video\\io\\ffmpeg_reader.py:157: UserWarning: In file videos/sample_1.mkv, 4871736 bytes wanted but 0 bytes read at frame index 38 (out of a total 2880 frames), at time 1.58/120.03 sec. Using the last valid frame instead.\n",
      "  warnings.warn(\n",
      "frame_index:   1%|▏         | 40/2880 [00:01<01:27, 32.40it/s, now=None]d:\\!wip\\subtitle_generator\\venv\\lib\\site-packages\\moviepy\\video\\io\\ffmpeg_reader.py:157: UserWarning: In file videos/sample_1.mkv, 4871736 bytes wanted but 0 bytes read at frame index 39 (out of a total 2880 frames), at time 1.62/120.03 sec. Using the last valid frame instead.\n",
      "  warnings.warn(\n",
      "d:\\!wip\\subtitle_generator\\venv\\lib\\site-packages\\moviepy\\video\\io\\ffmpeg_reader.py:157: UserWarning: In file videos/sample_1.mkv, 4871736 bytes wanted but 0 bytes read at frame index 40 (out of a total 2880 frames), at time 1.67/120.03 sec. Using the last valid frame instead.\n",
      "  warnings.warn(\n",
      "d:\\!wip\\subtitle_generator\\venv\\lib\\site-packages\\moviepy\\video\\io\\ffmpeg_reader.py:157: UserWarning: In file videos/sample_1.mkv, 4871736 bytes wanted but 0 bytes read at frame index 41 (out of a total 2880 frames), at time 1.71/120.03 sec. Using the last valid frame instead.\n",
      "  warnings.warn(\n",
      "d:\\!wip\\subtitle_generator\\venv\\lib\\site-packages\\moviepy\\video\\io\\ffmpeg_reader.py:157: UserWarning: In file videos/sample_1.mkv, 4871736 bytes wanted but 0 bytes read at frame index 42 (out of a total 2880 frames), at time 1.75/120.03 sec. Using the last valid frame instead.\n",
      "  warnings.warn(\n",
      "frame_index:   2%|▏         | 44/2880 [00:01<01:30, 31.32it/s, now=None]"
     ]
    },
    {
     "ename": "KeyboardInterrupt",
     "evalue": "",
     "output_type": "error",
     "traceback": [
      "\u001b[1;31m---------------------------------------------------------------------------\u001b[0m",
      "\u001b[1;31mKeyboardInterrupt\u001b[0m                         Traceback (most recent call last)",
      "Cell \u001b[1;32mIn[38], line 22\u001b[0m\n\u001b[0;32m     19\u001b[0m subtitle_path \u001b[38;5;241m=\u001b[39m \u001b[38;5;124mf\u001b[39m\u001b[38;5;124m\"\u001b[39m\u001b[38;5;124mvideos/\u001b[39m\u001b[38;5;132;01m{\u001b[39;00mfile_name\u001b[38;5;132;01m}\u001b[39;00m\u001b[38;5;124m_gemini.srt\u001b[39m\u001b[38;5;124m\"\u001b[39m\n\u001b[0;32m     20\u001b[0m video_output \u001b[38;5;241m=\u001b[39m \u001b[38;5;124mf\u001b[39m\u001b[38;5;124m\"\u001b[39m\u001b[38;5;124mvideos/\u001b[39m\u001b[38;5;132;01m{\u001b[39;00mfile_name\u001b[38;5;132;01m}\u001b[39;00m\u001b[38;5;124m_embedded.mkv\u001b[39m\u001b[38;5;124m\"\u001b[39m\n\u001b[1;32m---> 22\u001b[0m \u001b[43membed_subtitles\u001b[49m\u001b[43m(\u001b[49m\u001b[43mvideo_input\u001b[49m\u001b[43m,\u001b[49m\u001b[43m \u001b[49m\u001b[43msubtitle_path\u001b[49m\u001b[43m,\u001b[49m\u001b[43m \u001b[49m\u001b[43mvideo_input\u001b[49m\u001b[43m)\u001b[49m\n",
      "Cell \u001b[1;32mIn[38], line 13\u001b[0m, in \u001b[0;36membed_subtitles\u001b[1;34m(video_input, subtitle_path, video_output)\u001b[0m\n\u001b[0;32m     11\u001b[0m \u001b[38;5;66;03m# Write the final video to a file\u001b[39;00m\n\u001b[0;32m     12\u001b[0m \u001b[38;5;28mprint\u001b[39m(\u001b[38;5;124mf\u001b[39m\u001b[38;5;124m'\u001b[39m\u001b[38;5;132;01m{\u001b[39;00mvideo\u001b[38;5;241m.\u001b[39mduration\u001b[38;5;132;01m=}\u001b[39;00m\u001b[38;5;124m'\u001b[39m)\n\u001b[1;32m---> 13\u001b[0m \u001b[43mfinal_video\u001b[49m\u001b[38;5;241;43m.\u001b[39;49m\u001b[43mwrite_videofile\u001b[49m\u001b[43m(\u001b[49m\u001b[43mvideo_output\u001b[49m\u001b[43m,\u001b[49m\u001b[43m \u001b[49m\u001b[43mcodec\u001b[49m\u001b[38;5;241;43m=\u001b[39;49m\u001b[38;5;124;43m'\u001b[39;49m\u001b[38;5;124;43mlibx264\u001b[39;49m\u001b[38;5;124;43m'\u001b[39;49m\u001b[43m)\u001b[49m\n",
      "File \u001b[1;32md:\\!wip\\subtitle_generator\\venv\\lib\\site-packages\\decorator.py:232\u001b[0m, in \u001b[0;36mdecorate.<locals>.fun\u001b[1;34m(*args, **kw)\u001b[0m\n\u001b[0;32m    230\u001b[0m \u001b[38;5;28;01mif\u001b[39;00m \u001b[38;5;129;01mnot\u001b[39;00m kwsyntax:\n\u001b[0;32m    231\u001b[0m     args, kw \u001b[38;5;241m=\u001b[39m fix(args, kw, sig)\n\u001b[1;32m--> 232\u001b[0m \u001b[38;5;28;01mreturn\u001b[39;00m caller(func, \u001b[38;5;241m*\u001b[39m(extras \u001b[38;5;241m+\u001b[39m args), \u001b[38;5;241m*\u001b[39m\u001b[38;5;241m*\u001b[39mkw)\n",
      "File \u001b[1;32md:\\!wip\\subtitle_generator\\venv\\lib\\site-packages\\moviepy\\decorators.py:53\u001b[0m, in \u001b[0;36mrequires_duration\u001b[1;34m(func, clip, *args, **kwargs)\u001b[0m\n\u001b[0;32m     51\u001b[0m     \u001b[38;5;28;01mraise\u001b[39;00m \u001b[38;5;167;01mValueError\u001b[39;00m(\u001b[38;5;124m\"\u001b[39m\u001b[38;5;124mAttribute \u001b[39m\u001b[38;5;124m'\u001b[39m\u001b[38;5;124mduration\u001b[39m\u001b[38;5;124m'\u001b[39m\u001b[38;5;124m not set\u001b[39m\u001b[38;5;124m\"\u001b[39m)\n\u001b[0;32m     52\u001b[0m \u001b[38;5;28;01melse\u001b[39;00m:\n\u001b[1;32m---> 53\u001b[0m     \u001b[38;5;28;01mreturn\u001b[39;00m func(clip, \u001b[38;5;241m*\u001b[39margs, \u001b[38;5;241m*\u001b[39m\u001b[38;5;241m*\u001b[39mkwargs)\n",
      "File \u001b[1;32md:\\!wip\\subtitle_generator\\venv\\lib\\site-packages\\decorator.py:232\u001b[0m, in \u001b[0;36mdecorate.<locals>.fun\u001b[1;34m(*args, **kw)\u001b[0m\n\u001b[0;32m    230\u001b[0m \u001b[38;5;28;01mif\u001b[39;00m \u001b[38;5;129;01mnot\u001b[39;00m kwsyntax:\n\u001b[0;32m    231\u001b[0m     args, kw \u001b[38;5;241m=\u001b[39m fix(args, kw, sig)\n\u001b[1;32m--> 232\u001b[0m \u001b[38;5;28;01mreturn\u001b[39;00m caller(func, \u001b[38;5;241m*\u001b[39m(extras \u001b[38;5;241m+\u001b[39m args), \u001b[38;5;241m*\u001b[39m\u001b[38;5;241m*\u001b[39mkw)\n",
      "File \u001b[1;32md:\\!wip\\subtitle_generator\\venv\\lib\\site-packages\\moviepy\\decorators.py:143\u001b[0m, in \u001b[0;36muse_clip_fps_by_default\u001b[1;34m(func, clip, *args, **kwargs)\u001b[0m\n\u001b[0;32m    135\u001b[0m new_args \u001b[38;5;241m=\u001b[39m [\n\u001b[0;32m    136\u001b[0m     find_fps(arg) \u001b[38;5;28;01mif\u001b[39;00m (name \u001b[38;5;241m==\u001b[39m \u001b[38;5;124m\"\u001b[39m\u001b[38;5;124mfps\u001b[39m\u001b[38;5;124m\"\u001b[39m) \u001b[38;5;28;01melse\u001b[39;00m arg \u001b[38;5;28;01mfor\u001b[39;00m (arg, name) \u001b[38;5;129;01min\u001b[39;00m \u001b[38;5;28mzip\u001b[39m(args, names)\n\u001b[0;32m    137\u001b[0m ]\n\u001b[0;32m    138\u001b[0m new_kwargs \u001b[38;5;241m=\u001b[39m {\n\u001b[0;32m    139\u001b[0m     kwarg: find_fps(value) \u001b[38;5;28;01mif\u001b[39;00m kwarg \u001b[38;5;241m==\u001b[39m \u001b[38;5;124m\"\u001b[39m\u001b[38;5;124mfps\u001b[39m\u001b[38;5;124m\"\u001b[39m \u001b[38;5;28;01melse\u001b[39;00m value\n\u001b[0;32m    140\u001b[0m     \u001b[38;5;28;01mfor\u001b[39;00m (kwarg, value) \u001b[38;5;129;01min\u001b[39;00m kwargs\u001b[38;5;241m.\u001b[39mitems()\n\u001b[0;32m    141\u001b[0m }\n\u001b[1;32m--> 143\u001b[0m \u001b[38;5;28;01mreturn\u001b[39;00m func(clip, \u001b[38;5;241m*\u001b[39mnew_args, \u001b[38;5;241m*\u001b[39m\u001b[38;5;241m*\u001b[39mnew_kwargs)\n",
      "File \u001b[1;32md:\\!wip\\subtitle_generator\\venv\\lib\\site-packages\\decorator.py:232\u001b[0m, in \u001b[0;36mdecorate.<locals>.fun\u001b[1;34m(*args, **kw)\u001b[0m\n\u001b[0;32m    230\u001b[0m \u001b[38;5;28;01mif\u001b[39;00m \u001b[38;5;129;01mnot\u001b[39;00m kwsyntax:\n\u001b[0;32m    231\u001b[0m     args, kw \u001b[38;5;241m=\u001b[39m fix(args, kw, sig)\n\u001b[1;32m--> 232\u001b[0m \u001b[38;5;28;01mreturn\u001b[39;00m caller(func, \u001b[38;5;241m*\u001b[39m(extras \u001b[38;5;241m+\u001b[39m args), \u001b[38;5;241m*\u001b[39m\u001b[38;5;241m*\u001b[39mkw)\n",
      "File \u001b[1;32md:\\!wip\\subtitle_generator\\venv\\lib\\site-packages\\moviepy\\decorators.py:24\u001b[0m, in \u001b[0;36mconvert_masks_to_RGB\u001b[1;34m(func, clip, *args, **kwargs)\u001b[0m\n\u001b[0;32m     22\u001b[0m \u001b[38;5;28;01mif\u001b[39;00m clip\u001b[38;5;241m.\u001b[39mis_mask:\n\u001b[0;32m     23\u001b[0m     clip \u001b[38;5;241m=\u001b[39m clip\u001b[38;5;241m.\u001b[39mto_RGB()\n\u001b[1;32m---> 24\u001b[0m \u001b[38;5;28;01mreturn\u001b[39;00m func(clip, \u001b[38;5;241m*\u001b[39margs, \u001b[38;5;241m*\u001b[39m\u001b[38;5;241m*\u001b[39mkwargs)\n",
      "File \u001b[1;32md:\\!wip\\subtitle_generator\\venv\\lib\\site-packages\\decorator.py:232\u001b[0m, in \u001b[0;36mdecorate.<locals>.fun\u001b[1;34m(*args, **kw)\u001b[0m\n\u001b[0;32m    230\u001b[0m \u001b[38;5;28;01mif\u001b[39;00m \u001b[38;5;129;01mnot\u001b[39;00m kwsyntax:\n\u001b[0;32m    231\u001b[0m     args, kw \u001b[38;5;241m=\u001b[39m fix(args, kw, sig)\n\u001b[1;32m--> 232\u001b[0m \u001b[38;5;28;01mreturn\u001b[39;00m caller(func, \u001b[38;5;241m*\u001b[39m(extras \u001b[38;5;241m+\u001b[39m args), \u001b[38;5;241m*\u001b[39m\u001b[38;5;241m*\u001b[39mkw)\n",
      "File \u001b[1;32md:\\!wip\\subtitle_generator\\venv\\lib\\site-packages\\moviepy\\decorators.py:94\u001b[0m, in \u001b[0;36mpreprocess_args.<locals>.wrapper\u001b[1;34m(func, *args, **kwargs)\u001b[0m\n\u001b[0;32m     86\u001b[0m new_args \u001b[38;5;241m=\u001b[39m [\n\u001b[0;32m     87\u001b[0m     fun(arg) \u001b[38;5;28;01mif\u001b[39;00m (name \u001b[38;5;129;01min\u001b[39;00m varnames) \u001b[38;5;129;01mand\u001b[39;00m (arg \u001b[38;5;129;01mis\u001b[39;00m \u001b[38;5;129;01mnot\u001b[39;00m \u001b[38;5;28;01mNone\u001b[39;00m) \u001b[38;5;28;01melse\u001b[39;00m arg\n\u001b[0;32m     88\u001b[0m     \u001b[38;5;28;01mfor\u001b[39;00m (arg, name) \u001b[38;5;129;01min\u001b[39;00m \u001b[38;5;28mzip\u001b[39m(args, names)\n\u001b[0;32m     89\u001b[0m ]\n\u001b[0;32m     90\u001b[0m new_kwargs \u001b[38;5;241m=\u001b[39m {\n\u001b[0;32m     91\u001b[0m     kwarg: fun(value) \u001b[38;5;28;01mif\u001b[39;00m kwarg \u001b[38;5;129;01min\u001b[39;00m varnames \u001b[38;5;28;01melse\u001b[39;00m value\n\u001b[0;32m     92\u001b[0m     \u001b[38;5;28;01mfor\u001b[39;00m (kwarg, value) \u001b[38;5;129;01min\u001b[39;00m kwargs\u001b[38;5;241m.\u001b[39mitems()\n\u001b[0;32m     93\u001b[0m }\n\u001b[1;32m---> 94\u001b[0m \u001b[38;5;28;01mreturn\u001b[39;00m func(\u001b[38;5;241m*\u001b[39mnew_args, \u001b[38;5;241m*\u001b[39m\u001b[38;5;241m*\u001b[39mnew_kwargs)\n",
      "File \u001b[1;32md:\\!wip\\subtitle_generator\\venv\\lib\\site-packages\\moviepy\\video\\VideoClip.py:391\u001b[0m, in \u001b[0;36mVideoClip.write_videofile\u001b[1;34m(self, filename, fps, codec, bitrate, audio, audio_fps, preset, audio_nbytes, audio_codec, audio_bitrate, audio_bufsize, temp_audiofile, temp_audiofile_path, remove_temp, write_logfile, threads, ffmpeg_params, logger, pixel_format)\u001b[0m\n\u001b[0;32m    379\u001b[0m \u001b[38;5;28;01mif\u001b[39;00m make_audio:\n\u001b[0;32m    380\u001b[0m     \u001b[38;5;28mself\u001b[39m\u001b[38;5;241m.\u001b[39maudio\u001b[38;5;241m.\u001b[39mwrite_audiofile(\n\u001b[0;32m    381\u001b[0m         audiofile,\n\u001b[0;32m    382\u001b[0m         audio_fps,\n\u001b[1;32m   (...)\u001b[0m\n\u001b[0;32m    388\u001b[0m         logger\u001b[38;5;241m=\u001b[39mlogger,\n\u001b[0;32m    389\u001b[0m     )\n\u001b[1;32m--> 391\u001b[0m \u001b[43mffmpeg_write_video\u001b[49m\u001b[43m(\u001b[49m\n\u001b[0;32m    392\u001b[0m \u001b[43m    \u001b[49m\u001b[38;5;28;43mself\u001b[39;49m\u001b[43m,\u001b[49m\n\u001b[0;32m    393\u001b[0m \u001b[43m    \u001b[49m\u001b[43mfilename\u001b[49m\u001b[43m,\u001b[49m\n\u001b[0;32m    394\u001b[0m \u001b[43m    \u001b[49m\u001b[43mfps\u001b[49m\u001b[43m,\u001b[49m\n\u001b[0;32m    395\u001b[0m \u001b[43m    \u001b[49m\u001b[43mcodec\u001b[49m\u001b[43m,\u001b[49m\n\u001b[0;32m    396\u001b[0m \u001b[43m    \u001b[49m\u001b[43mbitrate\u001b[49m\u001b[38;5;241;43m=\u001b[39;49m\u001b[43mbitrate\u001b[49m\u001b[43m,\u001b[49m\n\u001b[0;32m    397\u001b[0m \u001b[43m    \u001b[49m\u001b[43mpreset\u001b[49m\u001b[38;5;241;43m=\u001b[39;49m\u001b[43mpreset\u001b[49m\u001b[43m,\u001b[49m\n\u001b[0;32m    398\u001b[0m \u001b[43m    \u001b[49m\u001b[43mwrite_logfile\u001b[49m\u001b[38;5;241;43m=\u001b[39;49m\u001b[43mwrite_logfile\u001b[49m\u001b[43m,\u001b[49m\n\u001b[0;32m    399\u001b[0m \u001b[43m    \u001b[49m\u001b[43maudiofile\u001b[49m\u001b[38;5;241;43m=\u001b[39;49m\u001b[43maudiofile\u001b[49m\u001b[43m,\u001b[49m\n\u001b[0;32m    400\u001b[0m \u001b[43m    \u001b[49m\u001b[43mthreads\u001b[49m\u001b[38;5;241;43m=\u001b[39;49m\u001b[43mthreads\u001b[49m\u001b[43m,\u001b[49m\n\u001b[0;32m    401\u001b[0m \u001b[43m    \u001b[49m\u001b[43mffmpeg_params\u001b[49m\u001b[38;5;241;43m=\u001b[39;49m\u001b[43mffmpeg_params\u001b[49m\u001b[43m,\u001b[49m\n\u001b[0;32m    402\u001b[0m \u001b[43m    \u001b[49m\u001b[43mlogger\u001b[49m\u001b[38;5;241;43m=\u001b[39;49m\u001b[43mlogger\u001b[49m\u001b[43m,\u001b[49m\n\u001b[0;32m    403\u001b[0m \u001b[43m    \u001b[49m\u001b[43mpixel_format\u001b[49m\u001b[38;5;241;43m=\u001b[39;49m\u001b[43mpixel_format\u001b[49m\u001b[43m,\u001b[49m\n\u001b[0;32m    404\u001b[0m \u001b[43m\u001b[49m\u001b[43m)\u001b[49m\n\u001b[0;32m    406\u001b[0m \u001b[38;5;28;01mif\u001b[39;00m remove_temp \u001b[38;5;129;01mand\u001b[39;00m make_audio:\n\u001b[0;32m    407\u001b[0m     \u001b[38;5;28;01mif\u001b[39;00m os\u001b[38;5;241m.\u001b[39mpath\u001b[38;5;241m.\u001b[39mexists(audiofile):\n",
      "File \u001b[1;32md:\\!wip\\subtitle_generator\\venv\\lib\\site-packages\\moviepy\\video\\io\\ffmpeg_writer.py:256\u001b[0m, in \u001b[0;36mffmpeg_write_video\u001b[1;34m(clip, filename, fps, codec, bitrate, preset, write_logfile, audiofile, threads, ffmpeg_params, logger, pixel_format)\u001b[0m\n\u001b[0;32m    242\u001b[0m     pixel_format \u001b[38;5;241m=\u001b[39m \u001b[38;5;124m\"\u001b[39m\u001b[38;5;124mrgba\u001b[39m\u001b[38;5;124m\"\u001b[39m \u001b[38;5;28;01mif\u001b[39;00m clip\u001b[38;5;241m.\u001b[39mmask \u001b[38;5;129;01mis\u001b[39;00m \u001b[38;5;129;01mnot\u001b[39;00m \u001b[38;5;28;01mNone\u001b[39;00m \u001b[38;5;28;01melse\u001b[39;00m \u001b[38;5;124m\"\u001b[39m\u001b[38;5;124mrgb24\u001b[39m\u001b[38;5;124m\"\u001b[39m\n\u001b[0;32m    243\u001b[0m \u001b[38;5;28;01mwith\u001b[39;00m FFMPEG_VideoWriter(\n\u001b[0;32m    244\u001b[0m     filename,\n\u001b[0;32m    245\u001b[0m     clip\u001b[38;5;241m.\u001b[39msize,\n\u001b[1;32m   (...)\u001b[0m\n\u001b[0;32m    254\u001b[0m     pixel_format\u001b[38;5;241m=\u001b[39mpixel_format,\n\u001b[0;32m    255\u001b[0m ) \u001b[38;5;28;01mas\u001b[39;00m writer:\n\u001b[1;32m--> 256\u001b[0m     \u001b[38;5;28;01mfor\u001b[39;00m t, frame \u001b[38;5;129;01min\u001b[39;00m clip\u001b[38;5;241m.\u001b[39miter_frames(\n\u001b[0;32m    257\u001b[0m         logger\u001b[38;5;241m=\u001b[39mlogger, with_times\u001b[38;5;241m=\u001b[39m\u001b[38;5;28;01mTrue\u001b[39;00m, fps\u001b[38;5;241m=\u001b[39mfps, dtype\u001b[38;5;241m=\u001b[39m\u001b[38;5;124m\"\u001b[39m\u001b[38;5;124muint8\u001b[39m\u001b[38;5;124m\"\u001b[39m\n\u001b[0;32m    258\u001b[0m     ):\n\u001b[0;32m    259\u001b[0m         \u001b[38;5;28;01mif\u001b[39;00m clip\u001b[38;5;241m.\u001b[39mmask \u001b[38;5;129;01mis\u001b[39;00m \u001b[38;5;129;01mnot\u001b[39;00m \u001b[38;5;28;01mNone\u001b[39;00m:\n\u001b[0;32m    260\u001b[0m             mask \u001b[38;5;241m=\u001b[39m \u001b[38;5;241m255\u001b[39m \u001b[38;5;241m*\u001b[39m clip\u001b[38;5;241m.\u001b[39mmask\u001b[38;5;241m.\u001b[39mget_frame(t)\n",
      "File \u001b[1;32md:\\!wip\\subtitle_generator\\venv\\lib\\site-packages\\moviepy\\Clip.py:535\u001b[0m, in \u001b[0;36mClip.iter_frames\u001b[1;34m(self, fps, with_times, logger, dtype)\u001b[0m\n\u001b[0;32m    528\u001b[0m \u001b[38;5;28;01mfor\u001b[39;00m frame_index \u001b[38;5;129;01min\u001b[39;00m logger\u001b[38;5;241m.\u001b[39miter_bar(\n\u001b[0;32m    529\u001b[0m     frame_index\u001b[38;5;241m=\u001b[39mnp\u001b[38;5;241m.\u001b[39marange(\u001b[38;5;241m0\u001b[39m, \u001b[38;5;28mint\u001b[39m(\u001b[38;5;28mself\u001b[39m\u001b[38;5;241m.\u001b[39mduration \u001b[38;5;241m*\u001b[39m fps))\n\u001b[0;32m    530\u001b[0m ):\n\u001b[0;32m    531\u001b[0m     \u001b[38;5;66;03m# int is used to ensure that floating point errors are rounded\u001b[39;00m\n\u001b[0;32m    532\u001b[0m     \u001b[38;5;66;03m# down to the nearest integer\u001b[39;00m\n\u001b[0;32m    533\u001b[0m     t \u001b[38;5;241m=\u001b[39m frame_index \u001b[38;5;241m/\u001b[39m fps\n\u001b[1;32m--> 535\u001b[0m     frame \u001b[38;5;241m=\u001b[39m \u001b[38;5;28;43mself\u001b[39;49m\u001b[38;5;241;43m.\u001b[39;49m\u001b[43mget_frame\u001b[49m\u001b[43m(\u001b[49m\u001b[43mt\u001b[49m\u001b[43m)\u001b[49m\n\u001b[0;32m    536\u001b[0m     \u001b[38;5;28;01mif\u001b[39;00m (dtype \u001b[38;5;129;01mis\u001b[39;00m \u001b[38;5;129;01mnot\u001b[39;00m \u001b[38;5;28;01mNone\u001b[39;00m) \u001b[38;5;129;01mand\u001b[39;00m (frame\u001b[38;5;241m.\u001b[39mdtype \u001b[38;5;241m!=\u001b[39m dtype):\n\u001b[0;32m    537\u001b[0m         frame \u001b[38;5;241m=\u001b[39m frame\u001b[38;5;241m.\u001b[39mastype(dtype)\n",
      "File \u001b[1;32md:\\!wip\\subtitle_generator\\venv\\lib\\site-packages\\decorator.py:232\u001b[0m, in \u001b[0;36mdecorate.<locals>.fun\u001b[1;34m(*args, **kw)\u001b[0m\n\u001b[0;32m    230\u001b[0m \u001b[38;5;28;01mif\u001b[39;00m \u001b[38;5;129;01mnot\u001b[39;00m kwsyntax:\n\u001b[0;32m    231\u001b[0m     args, kw \u001b[38;5;241m=\u001b[39m fix(args, kw, sig)\n\u001b[1;32m--> 232\u001b[0m \u001b[38;5;28;01mreturn\u001b[39;00m caller(func, \u001b[38;5;241m*\u001b[39m(extras \u001b[38;5;241m+\u001b[39m args), \u001b[38;5;241m*\u001b[39m\u001b[38;5;241m*\u001b[39mkw)\n",
      "File \u001b[1;32md:\\!wip\\subtitle_generator\\venv\\lib\\site-packages\\moviepy\\decorators.py:94\u001b[0m, in \u001b[0;36mpreprocess_args.<locals>.wrapper\u001b[1;34m(func, *args, **kwargs)\u001b[0m\n\u001b[0;32m     86\u001b[0m new_args \u001b[38;5;241m=\u001b[39m [\n\u001b[0;32m     87\u001b[0m     fun(arg) \u001b[38;5;28;01mif\u001b[39;00m (name \u001b[38;5;129;01min\u001b[39;00m varnames) \u001b[38;5;129;01mand\u001b[39;00m (arg \u001b[38;5;129;01mis\u001b[39;00m \u001b[38;5;129;01mnot\u001b[39;00m \u001b[38;5;28;01mNone\u001b[39;00m) \u001b[38;5;28;01melse\u001b[39;00m arg\n\u001b[0;32m     88\u001b[0m     \u001b[38;5;28;01mfor\u001b[39;00m (arg, name) \u001b[38;5;129;01min\u001b[39;00m \u001b[38;5;28mzip\u001b[39m(args, names)\n\u001b[0;32m     89\u001b[0m ]\n\u001b[0;32m     90\u001b[0m new_kwargs \u001b[38;5;241m=\u001b[39m {\n\u001b[0;32m     91\u001b[0m     kwarg: fun(value) \u001b[38;5;28;01mif\u001b[39;00m kwarg \u001b[38;5;129;01min\u001b[39;00m varnames \u001b[38;5;28;01melse\u001b[39;00m value\n\u001b[0;32m     92\u001b[0m     \u001b[38;5;28;01mfor\u001b[39;00m (kwarg, value) \u001b[38;5;129;01min\u001b[39;00m kwargs\u001b[38;5;241m.\u001b[39mitems()\n\u001b[0;32m     93\u001b[0m }\n\u001b[1;32m---> 94\u001b[0m \u001b[38;5;28;01mreturn\u001b[39;00m func(\u001b[38;5;241m*\u001b[39mnew_args, \u001b[38;5;241m*\u001b[39m\u001b[38;5;241m*\u001b[39mnew_kwargs)\n",
      "File \u001b[1;32md:\\!wip\\subtitle_generator\\venv\\lib\\site-packages\\moviepy\\Clip.py:87\u001b[0m, in \u001b[0;36mClip.get_frame\u001b[1;34m(self, t)\u001b[0m\n\u001b[0;32m     85\u001b[0m         \u001b[38;5;28;01mreturn\u001b[39;00m frame\n\u001b[0;32m     86\u001b[0m \u001b[38;5;28;01melse\u001b[39;00m:\n\u001b[1;32m---> 87\u001b[0m     \u001b[38;5;28;01mreturn\u001b[39;00m \u001b[38;5;28;43mself\u001b[39;49m\u001b[38;5;241;43m.\u001b[39;49m\u001b[43mframe_function\u001b[49m\u001b[43m(\u001b[49m\u001b[43mt\u001b[49m\u001b[43m)\u001b[49m\n",
      "File \u001b[1;32md:\\!wip\\subtitle_generator\\venv\\lib\\site-packages\\moviepy\\video\\compositing\\CompositeVideoClip.py:122\u001b[0m, in \u001b[0;36mCompositeVideoClip.frame_function\u001b[1;34m(self, t)\u001b[0m\n\u001b[0;32m    120\u001b[0m \u001b[38;5;250m\u001b[39m\u001b[38;5;124;03m\"\"\"The clips playing at time `t` are blitted over one another.\"\"\"\u001b[39;00m\n\u001b[0;32m    121\u001b[0m frame \u001b[38;5;241m=\u001b[39m \u001b[38;5;28mself\u001b[39m\u001b[38;5;241m.\u001b[39mbg\u001b[38;5;241m.\u001b[39mget_frame(t)\u001b[38;5;241m.\u001b[39mastype(\u001b[38;5;124m\"\u001b[39m\u001b[38;5;124muint8\u001b[39m\u001b[38;5;124m\"\u001b[39m)\n\u001b[1;32m--> 122\u001b[0m im \u001b[38;5;241m=\u001b[39m \u001b[43mImage\u001b[49m\u001b[38;5;241;43m.\u001b[39;49m\u001b[43mfromarray\u001b[49m\u001b[43m(\u001b[49m\u001b[43mframe\u001b[49m\u001b[43m)\u001b[49m\n\u001b[0;32m    124\u001b[0m \u001b[38;5;28;01mif\u001b[39;00m \u001b[38;5;28mself\u001b[39m\u001b[38;5;241m.\u001b[39mbg\u001b[38;5;241m.\u001b[39mmask \u001b[38;5;129;01mis\u001b[39;00m \u001b[38;5;129;01mnot\u001b[39;00m \u001b[38;5;28;01mNone\u001b[39;00m:\n\u001b[0;32m    125\u001b[0m     frame_mask \u001b[38;5;241m=\u001b[39m \u001b[38;5;28mself\u001b[39m\u001b[38;5;241m.\u001b[39mbg\u001b[38;5;241m.\u001b[39mmask\u001b[38;5;241m.\u001b[39mget_frame(t)\n",
      "File \u001b[1;32md:\\!wip\\subtitle_generator\\venv\\lib\\site-packages\\PIL\\Image.py:3304\u001b[0m, in \u001b[0;36mfromarray\u001b[1;34m(obj, mode)\u001b[0m\n\u001b[0;32m   3301\u001b[0m         msg \u001b[38;5;241m=\u001b[39m \u001b[38;5;124m\"\u001b[39m\u001b[38;5;124m'\u001b[39m\u001b[38;5;124mstrides\u001b[39m\u001b[38;5;124m'\u001b[39m\u001b[38;5;124m requires either tobytes() or tostring()\u001b[39m\u001b[38;5;124m\"\u001b[39m\n\u001b[0;32m   3302\u001b[0m         \u001b[38;5;28;01mraise\u001b[39;00m \u001b[38;5;167;01mValueError\u001b[39;00m(msg)\n\u001b[1;32m-> 3304\u001b[0m \u001b[38;5;28;01mreturn\u001b[39;00m \u001b[43mfrombuffer\u001b[49m\u001b[43m(\u001b[49m\u001b[43mmode\u001b[49m\u001b[43m,\u001b[49m\u001b[43m \u001b[49m\u001b[43msize\u001b[49m\u001b[43m,\u001b[49m\u001b[43m \u001b[49m\u001b[43mobj\u001b[49m\u001b[43m,\u001b[49m\u001b[43m \u001b[49m\u001b[38;5;124;43m\"\u001b[39;49m\u001b[38;5;124;43mraw\u001b[39;49m\u001b[38;5;124;43m\"\u001b[39;49m\u001b[43m,\u001b[49m\u001b[43m \u001b[49m\u001b[43mrawmode\u001b[49m\u001b[43m,\u001b[49m\u001b[43m \u001b[49m\u001b[38;5;241;43m0\u001b[39;49m\u001b[43m,\u001b[49m\u001b[43m \u001b[49m\u001b[38;5;241;43m1\u001b[39;49m\u001b[43m)\u001b[49m\n",
      "File \u001b[1;32md:\\!wip\\subtitle_generator\\venv\\lib\\site-packages\\PIL\\Image.py:3206\u001b[0m, in \u001b[0;36mfrombuffer\u001b[1;34m(mode, size, data, decoder_name, *args)\u001b[0m\n\u001b[0;32m   3203\u001b[0m         im\u001b[38;5;241m.\u001b[39mreadonly \u001b[38;5;241m=\u001b[39m \u001b[38;5;241m1\u001b[39m\n\u001b[0;32m   3204\u001b[0m         \u001b[38;5;28;01mreturn\u001b[39;00m im\n\u001b[1;32m-> 3206\u001b[0m \u001b[38;5;28;01mreturn\u001b[39;00m \u001b[43mfrombytes\u001b[49m\u001b[43m(\u001b[49m\u001b[43mmode\u001b[49m\u001b[43m,\u001b[49m\u001b[43m \u001b[49m\u001b[43msize\u001b[49m\u001b[43m,\u001b[49m\u001b[43m \u001b[49m\u001b[43mdata\u001b[49m\u001b[43m,\u001b[49m\u001b[43m \u001b[49m\u001b[43mdecoder_name\u001b[49m\u001b[43m,\u001b[49m\u001b[43m \u001b[49m\u001b[43margs\u001b[49m\u001b[43m)\u001b[49m\n",
      "File \u001b[1;32md:\\!wip\\subtitle_generator\\venv\\lib\\site-packages\\PIL\\Image.py:3147\u001b[0m, in \u001b[0;36mfrombytes\u001b[1;34m(mode, size, data, decoder_name, *args)\u001b[0m\n\u001b[0;32m   3144\u001b[0m     \u001b[38;5;28;01mif\u001b[39;00m decoder_name \u001b[38;5;241m==\u001b[39m \u001b[38;5;124m\"\u001b[39m\u001b[38;5;124mraw\u001b[39m\u001b[38;5;124m\"\u001b[39m \u001b[38;5;129;01mand\u001b[39;00m decoder_args \u001b[38;5;241m==\u001b[39m ():\n\u001b[0;32m   3145\u001b[0m         decoder_args \u001b[38;5;241m=\u001b[39m mode\n\u001b[1;32m-> 3147\u001b[0m     \u001b[43mim\u001b[49m\u001b[38;5;241;43m.\u001b[39;49m\u001b[43mfrombytes\u001b[49m\u001b[43m(\u001b[49m\u001b[43mdata\u001b[49m\u001b[43m,\u001b[49m\u001b[43m \u001b[49m\u001b[43mdecoder_name\u001b[49m\u001b[43m,\u001b[49m\u001b[43m \u001b[49m\u001b[43mdecoder_args\u001b[49m\u001b[43m)\u001b[49m\n\u001b[0;32m   3148\u001b[0m \u001b[38;5;28;01mreturn\u001b[39;00m im\n",
      "File \u001b[1;32md:\\!wip\\subtitle_generator\\venv\\lib\\site-packages\\PIL\\Image.py:876\u001b[0m, in \u001b[0;36mImage.frombytes\u001b[1;34m(self, data, decoder_name, *args)\u001b[0m\n\u001b[0;32m    874\u001b[0m d \u001b[38;5;241m=\u001b[39m _getdecoder(\u001b[38;5;28mself\u001b[39m\u001b[38;5;241m.\u001b[39mmode, decoder_name, decoder_args)\n\u001b[0;32m    875\u001b[0m d\u001b[38;5;241m.\u001b[39msetimage(\u001b[38;5;28mself\u001b[39m\u001b[38;5;241m.\u001b[39mim)\n\u001b[1;32m--> 876\u001b[0m s \u001b[38;5;241m=\u001b[39m \u001b[43md\u001b[49m\u001b[38;5;241;43m.\u001b[39;49m\u001b[43mdecode\u001b[49m\u001b[43m(\u001b[49m\u001b[43mdata\u001b[49m\u001b[43m)\u001b[49m\n\u001b[0;32m    878\u001b[0m \u001b[38;5;28;01mif\u001b[39;00m s[\u001b[38;5;241m0\u001b[39m] \u001b[38;5;241m>\u001b[39m\u001b[38;5;241m=\u001b[39m \u001b[38;5;241m0\u001b[39m:\n\u001b[0;32m    879\u001b[0m     msg \u001b[38;5;241m=\u001b[39m \u001b[38;5;124m\"\u001b[39m\u001b[38;5;124mnot enough image data\u001b[39m\u001b[38;5;124m\"\u001b[39m\n",
      "\u001b[1;31mKeyboardInterrupt\u001b[0m: "
     ]
    },
    {
     "name": "stderr",
     "output_type": "stream",
     "text": [
      "frame_index:   2%|▏         | 44/2880 [00:18<01:30, 31.32it/s, now=None]"
     ]
    }
   ],
   "source": [
    "\n",
    "#! does not work\n",
    "def embed_subtitles(video_input, subtitle_path, video_output):\n",
    "    \"\"\"Embeds subtitles into a video using MoviePy.\"\"\"\n",
    "\n",
    "    video = mp.VideoFileClip(video_input)\n",
    "    subtitles = mp.TextClip(font=r'fonts\\swansea-font\\SwanseaItalic-AwqD.ttf', text=subtitle_path, font_size=24, color='white', duration=video.duration)\n",
    "\n",
    "    # Composite video and subtitles\n",
    "    final_video = mp.CompositeVideoClip([video, subtitles])\n",
    "\n",
    "    # Write the final video to a file\n",
    "    print(f'{video.duration=}')\n",
    "    final_video.write_videofile(video_output, codec='libx264')\n",
    "\n",
    "\n",
    "if __name__ == \"__main__\":\n",
    "    file_name = \"sample_1\"\n",
    "    video_input = f\"videos/{file_name}.mkv\"\n",
    "    subtitle_path = f\"videos/{file_name}_gemini.srt\"\n",
    "    video_output = f\"videos/{file_name}_embedded.mkv\"\n",
    "    \n",
    "    embed_subtitles(video_input, subtitle_path, video_input)\n"
   ]
  }
 ],
 "metadata": {
  "kernelspec": {
   "display_name": "venv",
   "language": "python",
   "name": "python3"
  },
  "language_info": {
   "codemirror_mode": {
    "name": "ipython",
    "version": 3
   },
   "file_extension": ".py",
   "mimetype": "text/x-python",
   "name": "python",
   "nbconvert_exporter": "python",
   "pygments_lexer": "ipython3",
   "version": "3.10.11"
  }
 },
 "nbformat": 4,
 "nbformat_minor": 2
}
