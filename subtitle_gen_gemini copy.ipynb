{
 "cells": [
  {
   "cell_type": "code",
   "execution_count": 1,
   "metadata": {},
   "outputs": [],
   "source": [
    "import whisper\n",
    "import moviepy as mp\n",
    "import eyed3"
   ]
  },
  {
   "cell_type": "code",
   "execution_count": 2,
   "metadata": {},
   "outputs": [],
   "source": [
    "\n",
    "def generate_subtitles(video_path, audio_path, output_srt_path):\n",
    "    \"\"\"Generates subtitles for a video using Whisper.\n",
    "    models (https://github.com/openai/whisper):\n",
    "        \"tiny.en\" | \"tiny\"\n",
    "        \"base.en\" | \"base\"\n",
    "        \"small.en\" | small\"\n",
    "        \"medium.en\" | edium\"\n",
    "        \"large-v1\"\n",
    "        \"large-v2\"\n",
    "        \"large-v3\"\n",
    "        \"large\"\n",
    "        \"large-v3-turbo\"\n",
    "        \"turbo\"\n",
    "    \"\"\"\n",
    "\n",
    "    # Extract audio from the video\n",
    "    video = mp.VideoFileClip(video_path)\n",
    "    video.audio.write_audiofile(audio_path)\n",
    "\n",
    "    # Load the Whisper model\n",
    "    model = whisper.load_model(\"turbo\", device=\"cuda\")  # Or another model like \"small\", \"medium\", \"large\", \"turbo\"\n",
    "\n",
    "    # Transcribe the audio\n",
    "    result = model.transcribe(audio_path, verbose=False, condition_on_previous_text=False)\n",
    "\n",
    "    # Generate SRT file\n",
    "    with open(output_srt_path, \"w\", encoding=\"utf-8\") as f:\n",
    "        for i, segment in enumerate(result[\"segments\"]):\n",
    "            start = segment[\"start\"]\n",
    "            end = segment[\"end\"]\n",
    "            text = segment[\"text\"]\n",
    "\n",
    "            f.write(f\"{i+1}\\n\")\n",
    "            f.write(f\"{format_time(start)} --> {format_time(end)}\\n\")\n",
    "            f.write(f\"{text}\\n\\n\")\n",
    "\n",
    "def format_time(seconds):\n",
    "    \"\"\"Formats time in seconds to SRT format.\"\"\"\n",
    "    hours, remainder = divmod(seconds, 3600)\n",
    "    minutes, seconds = divmod(remainder, 60)\n",
    "    return f\"{int(hours):02}:{int(minutes):02}:{int(seconds):02},{int(seconds*1000 % 1000):03}\"\n"
   ]
  },
  {
   "cell_type": "code",
   "execution_count": 3,
   "metadata": {},
   "outputs": [],
   "source": [
    "def add_tag(audio_file: str, artist: str, album: str):\n",
    "    file = eyed3.load(audio_file)\n",
    "    file.tag.artist = artist\n",
    "    file.tag.album = album\n",
    "    file.tag.save()"
   ]
  },
  {
   "cell_type": "code",
   "execution_count": 48,
   "metadata": {},
   "outputs": [
    {
     "name": "stdout",
     "output_type": "stream",
     "text": [
      "MoviePy - Writing audio in videos/Nettle and Bone/01 Nettle and Bone.mp3\n"
     ]
    },
    {
     "name": "stderr",
     "output_type": "stream",
     "text": [
      "                                                                        \r"
     ]
    },
    {
     "name": "stdout",
     "output_type": "stream",
     "text": [
      "MoviePy - Done.\n",
      "MoviePy - Writing audio in videos/Nettle and Bone/02 Nettle and Bone.mp3\n"
     ]
    },
    {
     "name": "stderr",
     "output_type": "stream",
     "text": [
      "                                                                        \r"
     ]
    },
    {
     "name": "stdout",
     "output_type": "stream",
     "text": [
      "MoviePy - Done.\n",
      "MoviePy - Writing audio in videos/Nettle and Bone/03 Nettle and Bone.mp3\n"
     ]
    },
    {
     "name": "stderr",
     "output_type": "stream",
     "text": [
      "                                                                        \r"
     ]
    },
    {
     "name": "stdout",
     "output_type": "stream",
     "text": [
      "MoviePy - Done.\n",
      "MoviePy - Writing audio in videos/Nettle and Bone/04 Nettle and Bone.mp3\n"
     ]
    },
    {
     "name": "stderr",
     "output_type": "stream",
     "text": [
      "                                                                        \r"
     ]
    },
    {
     "name": "stdout",
     "output_type": "stream",
     "text": [
      "MoviePy - Done.\n",
      "MoviePy - Writing audio in videos/Nettle and Bone/05 Nettle and Bone.mp3\n"
     ]
    },
    {
     "name": "stderr",
     "output_type": "stream",
     "text": [
      "                                                                        \r"
     ]
    },
    {
     "name": "stdout",
     "output_type": "stream",
     "text": [
      "MoviePy - Done.\n",
      "MoviePy - Writing audio in videos/Nettle and Bone/06 Nettle and Bone.mp3\n"
     ]
    },
    {
     "name": "stderr",
     "output_type": "stream",
     "text": [
      "                                                                        \r"
     ]
    },
    {
     "name": "stdout",
     "output_type": "stream",
     "text": [
      "MoviePy - Done.\n",
      "MoviePy - Writing audio in videos/Nettle and Bone/07 Nettle and Bone.mp3\n"
     ]
    },
    {
     "name": "stderr",
     "output_type": "stream",
     "text": [
      "                                                                        \r"
     ]
    },
    {
     "name": "stdout",
     "output_type": "stream",
     "text": [
      "MoviePy - Done.\n",
      "MoviePy - Writing audio in videos/Nettle and Bone/08 Nettle and Bone.mp3\n"
     ]
    },
    {
     "name": "stderr",
     "output_type": "stream",
     "text": [
      "                                                                        \r"
     ]
    },
    {
     "name": "stdout",
     "output_type": "stream",
     "text": [
      "MoviePy - Done.\n",
      "MoviePy - Writing audio in videos/Nettle and Bone/09 Nettle and Bone.mp3\n"
     ]
    },
    {
     "name": "stderr",
     "output_type": "stream",
     "text": [
      "                                                                        \r"
     ]
    },
    {
     "name": "stdout",
     "output_type": "stream",
     "text": [
      "MoviePy - Done.\n",
      "MoviePy - Writing audio in videos/Nettle and Bone/10 Nettle and Bone.mp3\n"
     ]
    },
    {
     "name": "stderr",
     "output_type": "stream",
     "text": [
      "                                                                        \r"
     ]
    },
    {
     "name": "stdout",
     "output_type": "stream",
     "text": [
      "MoviePy - Done.\n",
      "MoviePy - Writing audio in videos/Nettle and Bone/11 Nettle and Bone.mp3\n"
     ]
    },
    {
     "name": "stderr",
     "output_type": "stream",
     "text": [
      "                                                                        \r"
     ]
    },
    {
     "name": "stdout",
     "output_type": "stream",
     "text": [
      "MoviePy - Done.\n",
      "MoviePy - Writing audio in videos/Nettle and Bone/12 Nettle and Bone.mp3\n"
     ]
    },
    {
     "name": "stderr",
     "output_type": "stream",
     "text": [
      "                                                                        \r"
     ]
    },
    {
     "name": "stdout",
     "output_type": "stream",
     "text": [
      "MoviePy - Done.\n",
      "MoviePy - Writing audio in videos/Nettle and Bone/13 Nettle and Bone.mp3\n"
     ]
    },
    {
     "name": "stderr",
     "output_type": "stream",
     "text": [
      "                                                                        \r"
     ]
    },
    {
     "name": "stdout",
     "output_type": "stream",
     "text": [
      "MoviePy - Done.\n",
      "MoviePy - Writing audio in videos/Nettle and Bone/14 Nettle and Bone.mp3\n"
     ]
    },
    {
     "name": "stderr",
     "output_type": "stream",
     "text": [
      "                                                                        \r"
     ]
    },
    {
     "name": "stdout",
     "output_type": "stream",
     "text": [
      "MoviePy - Done.\n",
      "MoviePy - Writing audio in videos/Nettle and Bone/15 Nettle and Bone.mp3\n"
     ]
    },
    {
     "name": "stderr",
     "output_type": "stream",
     "text": [
      "                                                                        \r"
     ]
    },
    {
     "name": "stdout",
     "output_type": "stream",
     "text": [
      "MoviePy - Done.\n",
      "MoviePy - Writing audio in videos/Nettle and Bone/16 Nettle and Bone.mp3\n"
     ]
    },
    {
     "name": "stderr",
     "output_type": "stream",
     "text": [
      "                                                                        \r"
     ]
    },
    {
     "name": "stdout",
     "output_type": "stream",
     "text": [
      "MoviePy - Done.\n",
      "MoviePy - Writing audio in videos/Nettle and Bone/17 Nettle and Bone.mp3\n"
     ]
    },
    {
     "name": "stderr",
     "output_type": "stream",
     "text": [
      "                                                                        \r"
     ]
    },
    {
     "name": "stdout",
     "output_type": "stream",
     "text": [
      "MoviePy - Done.\n",
      "MoviePy - Writing audio in videos/Nettle and Bone/18 Nettle and Bone.mp3\n"
     ]
    },
    {
     "name": "stderr",
     "output_type": "stream",
     "text": [
      "                                                                        \r"
     ]
    },
    {
     "name": "stdout",
     "output_type": "stream",
     "text": [
      "MoviePy - Done.\n",
      "MoviePy - Writing audio in videos/Nettle and Bone/19 Nettle and Bone.mp3\n"
     ]
    },
    {
     "name": "stderr",
     "output_type": "stream",
     "text": [
      "                                                                        \r"
     ]
    },
    {
     "name": "stdout",
     "output_type": "stream",
     "text": [
      "MoviePy - Done.\n",
      "MoviePy - Writing audio in videos/Nettle and Bone/20 Nettle and Bone.mp3\n"
     ]
    },
    {
     "name": "stderr",
     "output_type": "stream",
     "text": [
      "                                                                        \r"
     ]
    },
    {
     "name": "stdout",
     "output_type": "stream",
     "text": [
      "MoviePy - Done.\n",
      "MoviePy - Writing audio in videos/Nettle and Bone/21 Nettle and Bone.mp3\n"
     ]
    },
    {
     "name": "stderr",
     "output_type": "stream",
     "text": [
      "                                                                        \r"
     ]
    },
    {
     "name": "stdout",
     "output_type": "stream",
     "text": [
      "MoviePy - Done.\n",
      "MoviePy - Writing audio in videos/Nettle and Bone/22 Nettle and Bone.mp3\n"
     ]
    },
    {
     "name": "stderr",
     "output_type": "stream",
     "text": [
      "                                                                        \r"
     ]
    },
    {
     "name": "stdout",
     "output_type": "stream",
     "text": [
      "MoviePy - Done.\n"
     ]
    },
    {
     "data": {
      "text/plain": [
       "' results\\n1g= base nocuda:9m 38s base cuda:4m 27s turbo cuda: 9m 36s\\n10g= turbo cuda: 4m 17s\\n369k=\\nsample_4g=turbo cuda: 11s\\n\\n'"
      ]
     },
     "execution_count": 48,
     "metadata": {},
     "output_type": "execute_result"
    }
   ],
   "source": [
    "# %%timeit\n",
    "if __name__ == \"__main__\":\n",
    "    artist = \"T. Kingfisher\"\n",
    "    album_name = \"Nettle and Bone\"\n",
    "    file_name = \"sample_1\"\n",
    "    for i in range(1,23):\n",
    "        video_path = f\"videos/{album_name}/{i:02d} {album_name}.mp4\"\n",
    "        audio_path = f\"videos/{album_name}/{i:02d} {album_name}.mp3\"\n",
    "        output_srt_path = f\"videos/{file_name}_gemini.srt\"\n",
    "        generate_subtitles(video_path, audio_path, output_srt_path)\n",
    "        add_tag(audio_path, artist, album_name)\n",
    "\n",
    "''' results\n",
    "1g= base nocuda:9m 38s base cuda:4m 27s turbo cuda: 9m 36s\n",
    "10g= turbo cuda: 4m 17s\n",
    "369k=\n",
    "sample_4g=turbo cuda: 11s\n",
    "\n",
    "'''"
   ]
  },
  {
   "cell_type": "code",
   "execution_count": null,
   "metadata": {},
   "outputs": [],
   "source": [
    "\n",
    "#! does not work\n",
    "def embed_subtitles(video_input, subtitle_path, video_output):\n",
    "    \"\"\"Embeds subtitles into a video using MoviePy.\"\"\"\n",
    "\n",
    "    video = mp.VideoFileClip(video_input)\n",
    "    subtitles = mp.TextClip(font=r'fonts\\swansea-font\\SwanseaItalic-AwqD.ttf', text=subtitle_path, font_size=24, color='white', duration=video.duration)\n",
    "\n",
    "    # Composite video and subtitles\n",
    "    final_video = mp.CompositeVideoClip([video, subtitles])\n",
    "\n",
    "    # Write the final video to a file\n",
    "    print(f'{video.duration=}')\n",
    "    final_video.write_videofile(video_output, codec='libx264')\n",
    "\n",
    "\n",
    "if __name__ == \"__main__\":\n",
    "    file_name = \"sample_1\"\n",
    "    video_input = f\"videos/{file_name}.mkv\"\n",
    "    subtitle_path = f\"videos/{file_name}_gemini.srt\"\n",
    "    video_output = f\"videos/{file_name}_embedded.mkv\"\n",
    "    \n",
    "    embed_subtitles(video_input, subtitle_path, video_input)\n"
   ]
  },
  {
   "cell_type": "code",
   "execution_count": 4,
   "metadata": {},
   "outputs": [
    {
     "name": "stdout",
     "output_type": "stream",
     "text": [
      "MoviePy - Writing audio in videos/Kraven.The.Hunter.2024.1080p.WEBRip.DDP5.1.x265.10bit-LAMA.mp3\n"
     ]
    },
    {
     "name": "stderr",
     "output_type": "stream",
     "text": [
      "                                                                          \r"
     ]
    },
    {
     "name": "stdout",
     "output_type": "stream",
     "text": [
      "MoviePy - Done.\n"
     ]
    },
    {
     "name": "stderr",
     "output_type": "stream",
     "text": [
      "d:\\!wip\\subtitle_generator\\venv\\lib\\site-packages\\whisper\\__init__.py:150: FutureWarning: You are using `torch.load` with `weights_only=False` (the current default value), which uses the default pickle module implicitly. It is possible to construct malicious pickle data which will execute arbitrary code during unpickling (See https://github.com/pytorch/pytorch/blob/main/SECURITY.md#untrusted-models for more details). In a future release, the default value for `weights_only` will be flipped to `True`. This limits the functions that could be executed during unpickling. Arbitrary objects will no longer be allowed to be loaded via this mode unless they are explicitly allowlisted by the user via `torch.serialization.add_safe_globals`. We recommend you start setting `weights_only=True` for any use case where you don't have full control of the loaded file. Please open an issue on GitHub for any issues related to this experimental feature.\n",
      "  checkpoint = torch.load(fp, map_location=device)\n"
     ]
    },
    {
     "name": "stdout",
     "output_type": "stream",
     "text": [
      "Detected language: English\n"
     ]
    },
    {
     "name": "stderr",
     "output_type": "stream",
     "text": [
      "100%|██████████| 760809/760809 [03:14<00:00, 3916.28frames/s] \n"
     ]
    },
    {
     "data": {
      "text/plain": [
       "' results\\n1g= base nocuda:9m 38s base cuda:4m 27s turbo cuda: 9m 36s\\n10g= turbo cuda: 4m 17s\\n369k=\\nsample_4g=turbo cuda: 11s\\n\\n'"
      ]
     },
     "execution_count": 4,
     "metadata": {},
     "output_type": "execute_result"
    }
   ],
   "source": [
    "# %%timeit\n",
    "if __name__ == \"__main__\":\n",
    "    file_name = \"fileName\"\n",
    "    video_path = f\"videos/{file_name}.mkv\"\n",
    "    audio_path = f\"videos/{file_name}.mp3\"\n",
    "    output_srt_path = f\"videos/{file_name}_gemini.srt\"\n",
    "    generate_subtitles(video_path, audio_path, output_srt_path)\n",
    "\n",
    "''' results\n",
    "1g= base nocuda:9m 38s base cuda:4m 27s turbo cuda: 9m 36s\n",
    "10g= turbo cuda: 4m 17s\n",
    "369k=\n",
    "sample_4g=turbo cuda: 11s\n",
    "\n",
    "'''"
   ]
  }
 ],
 "metadata": {
  "kernelspec": {
   "display_name": "venv",
   "language": "python",
   "name": "python3"
  },
  "language_info": {
   "codemirror_mode": {
    "name": "ipython",
    "version": 3
   },
   "file_extension": ".py",
   "mimetype": "text/x-python",
   "name": "python",
   "nbconvert_exporter": "python",
   "pygments_lexer": "ipython3",
   "version": "3.10.11"
  }
 },
 "nbformat": 4,
 "nbformat_minor": 2
}
