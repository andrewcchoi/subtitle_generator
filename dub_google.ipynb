{
 "cells": [
  {
   "cell_type": "code",
   "execution_count": 2,
   "metadata": {},
   "outputs": [],
   "source": [
    "import subprocess\n",
    "from google.cloud import speech_v1p1beta1 as speech\n",
    "from google.cloud import translate_v2 as translate\n",
    "from google.cloud import texttospeech\n"
   ]
  },
  {
   "cell_type": "code",
   "execution_count": 3,
   "metadata": {},
   "outputs": [],
   "source": [
    "\n",
    "def extract_audio(video_file):\n",
    "    audio_file = \"temp_audio.wav\"\n",
    "    subprocess.run([\"ffmpeg\", \"-i\", video_file, \"-vn\", \"-acodec\", \"pcm_s16le\", \"-ar\", \"44100\", \"-ac\", \"2\", audio_file], check=True)\n",
    "    return audio_file"
   ]
  },
  {
   "cell_type": "code",
   "execution_count": 4,
   "metadata": {},
   "outputs": [],
   "source": [
    "\n",
    "def transcribe_audio(audio_file, language_code):\n",
    "    client = speech.SpeechClient()\n",
    "    with open(audio_file, \"rb\") as audio:\n",
    "        content = audio.read()\n",
    "    audio = speech.RecognitionAudio(content=content)\n",
    "    config = speech.RecognitionConfig(\n",
    "        encoding=speech.RecognitionConfig.AudioEncoding.LINEAR16,\n",
    "        sample_rate_hertz=44100,\n",
    "        language_code=language_code,\n",
    "    )\n",
    "    response = client.recognize(config=config, audio=audio)\n",
    "    transcript = \" \".join([result.alternatives[0].transcript for result in response.results])\n",
    "    return transcript"
   ]
  },
  {
   "cell_type": "code",
   "execution_count": 5,
   "metadata": {},
   "outputs": [],
   "source": [
    "\n",
    "def translate_text(text, target_language):\n",
    "    translate_client = translate.Client()\n",
    "    result = translate_client.translate(text, target_language=target_language)\n",
    "    return result[\"translatedText\"]"
   ]
  },
  {
   "cell_type": "code",
   "execution_count": 6,
   "metadata": {},
   "outputs": [],
   "source": [
    "\n",
    "def generate_audio(text, target_language):\n",
    "    client = texttospeech.TextToSpeechClient()\n",
    "    synthesis_input = texttospeech.SynthesisInput(text=text)\n",
    "    voice = texttospeech.VoiceSelectionParams(\n",
    "        language_code=target_language,\n",
    "        ssml_gender=texttospeech.SsmlVoiceGender.NEUTRAL\n",
    "    )\n",
    "    audio_config = texttospeech.AudioConfig(\n",
    "        audio_encoding=texttospeech.AudioEncoding.LINEAR16\n",
    "    )\n",
    "    response = client.synthesize_speech(input=synthesis_input, voice=voice, audio_config=audio_config)\n",
    "    with open(\"dubbed_audio.wav\", \"wb\") as out:\n",
    "        out.write(response.audio_content)"
   ]
  },
  {
   "cell_type": "code",
   "execution_count": 6,
   "metadata": {},
   "outputs": [],
   "source": [
    "def combine_audio_video(video_file, audio_file, output_file):\n",
    "    subprocess.run([\"ffmpeg\", \"-i\", video_file, \"-i\", audio_file, \"-c:v\", \"copy\", \"-c:a\", \"aac\", \"-map\", \"0:v:0\", \"-map\", \"1:a:0\", \"-y\", output_file], check=True)"
   ]
  },
  {
   "cell_type": "code",
   "execution_count": null,
   "metadata": {},
   "outputs": [],
   "source": [
    "if __name__ == \"__main__\":\n",
    "    video_file = \"videos\\jap_audio.mkv\"\n",
    "    source_language = \"ja\"\n",
    "    target_language = \"en\"\n",
    "\n",
    "    audio_file = extract_audio(video_file)\n",
    "    transcript = transcribe_audio(audio_file, source_language)\n",
    "    translated_text = translate_text(transcript, target_language)\n",
    "    generate_audio(translated_text, target_language)\n",
    "    combine_audio_video(video_file, \"dubbed_audio.wav\", \"dubbed_video.mp4\")"
   ]
  },
  {
   "cell_type": "code",
   "execution_count": null,
   "metadata": {},
   "outputs": [],
   "source": [
    "\n",
    "video_file = \"videos\\jap_audio.mkv\"\n",
    "source_language = \"ja\"\n",
    "target_language = \"en\"\n",
    "\n",
    "audio_file = extract_audio(video_file)"
   ]
  },
  {
   "cell_type": "code",
   "execution_count": null,
   "metadata": {},
   "outputs": [],
   "source": [
    "\n",
    "transcript = transcribe_audio(audio_file, source_language)"
   ]
  },
  {
   "cell_type": "code",
   "execution_count": null,
   "metadata": {},
   "outputs": [],
   "source": [
    "\n",
    "translated_text = translate_text(transcript, target_language)"
   ]
  },
  {
   "cell_type": "code",
   "execution_count": null,
   "metadata": {},
   "outputs": [],
   "source": [
    "\n",
    "generate_audio(translated_text, target_language)"
   ]
  },
  {
   "cell_type": "code",
   "execution_count": null,
   "metadata": {},
   "outputs": [],
   "source": [
    "\n",
    "combine_audio_video(video_file, \"dubbed_audio.wav\", \"dubbed_video.mp4\")"
   ]
  },
  {
   "cell_type": "markdown",
   "metadata": {},
   "source": [
    "# notes\n",
    "- https://cloud.google.com/translate/docs/overview\n",
    "- https://cloud.google.com/docs/authentication/client-libraries#python\n"
   ]
  }
 ],
 "metadata": {
  "kernelspec": {
   "display_name": "venv",
   "language": "python",
   "name": "python3"
  },
  "language_info": {
   "codemirror_mode": {
    "name": "ipython",
    "version": 3
   },
   "file_extension": ".py",
   "mimetype": "text/x-python",
   "name": "python",
   "nbconvert_exporter": "python",
   "pygments_lexer": "ipython3",
   "version": "3.10.11"
  }
 },
 "nbformat": 4,
 "nbformat_minor": 2
}
