{
 "cells": [
  {
   "cell_type": "code",
   "execution_count": null,
   "metadata": {},
   "outputs": [],
   "source": [
    "pip install google-cloud-translate google-cloud-texttospeech moviepy\n"
   ]
  },
  {
   "cell_type": "code",
   "execution_count": 3,
   "metadata": {},
   "outputs": [
    {
     "data": {
      "text/plain": [
       "True"
      ]
     },
     "execution_count": 3,
     "metadata": {},
     "output_type": "execute_result"
    }
   ],
   "source": [
    "import os\n",
    "from google.cloud import translate_v2 as translate\n",
    "from google.cloud import texttospeech\n",
    "from moviepy import VideoFileClip, AudioFileClip, concatenate_videoclips\n",
    "from dotenv import load_dotenv\n",
    "\n",
    "load_dotenv()"
   ]
  },
  {
   "cell_type": "code",
   "execution_count": null,
   "metadata": {},
   "outputs": [],
   "source": [
    "\n",
    "\n",
    "# Set up Google Cloud credentials\n",
    "# os.environ['GOOGLE_APPLICATION_CREDENTIALS'] = 'path_to_your_service_account_key.json'\n",
    "\n",
    "# Initialize Google Cloud clients\n",
    "translate_client = translate.Client()\n",
    "tts_client = texttospeech.TextToSpeechClient()\n",
    "\n",
    "def translate_text(text, target_language):\n",
    "    result = translate_client.translate(text, target_language=target_language)\n",
    "    return result['translatedText']\n",
    "\n",
    "def text_to_speech(text, language_code):\n",
    "    synthesis_input = texttospeech.SynthesisInput(text=text)\n",
    "    voice = texttospeech.VoiceSelectionParams(language_code=language_code, ssml_gender=texttospeech.SsmlVoiceGender.NEUTRAL)\n",
    "    audio_config = texttospeech.AudioConfig(audio_encoding=texttospeech.AudioEncoding.MP3)\n",
    "    response = tts_client.synthesize_speech(input=synthesis_input, voice=voice, audio_config=audio_config)\n",
    "    return response.audio_content\n",
    "\n",
    "def dub_video(video_path, target_language, output_path):\n",
    "    video = VideoFileClip(video_path)\n",
    "    original_audio = video.audio\n",
    "    translated_audio_clips = []\n",
    "\n",
    "    for i, clip in enumerate(video.iter_frames()):\n",
    "        text = extract_text_from_audio_clip(original_audio.subclip(i, i+1))\n",
    "        translated_text = translate_text(text, target_language)\n",
    "        translated_audio = text_to_speech(translated_text, target_language)\n",
    "        translated_audio_clip = AudioFileClip(translated_audio)\n",
    "        translated_audio_clips.append(translated_audio_clip)\n",
    "\n",
    "    final_audio = concatenate_videoclips(translated_audio_clips)\n",
    "    final_video = video.set_audio(final_audio)\n",
    "    final_video.write_videofile(output_path, codec='libx264')\n",
    "\n",
    "def extract_text_from_audio_clip(audio_clip):\n",
    "    # Implement your own method to extract text from audio clip\n",
    "    return \"Extracted text\"\n",
    "\n",
    "# Example usage\n",
    "dub_video('input_video.mp4', 'es', 'output_video.mp4')\n"
   ]
  }
 ],
 "metadata": {
  "kernelspec": {
   "display_name": "venv",
   "language": "python",
   "name": "python3"
  },
  "language_info": {
   "codemirror_mode": {
    "name": "ipython",
    "version": 3
   },
   "file_extension": ".py",
   "mimetype": "text/x-python",
   "name": "python",
   "nbconvert_exporter": "python",
   "pygments_lexer": "ipython3",
   "version": "3.10.11"
  }
 },
 "nbformat": 4,
 "nbformat_minor": 2
}
